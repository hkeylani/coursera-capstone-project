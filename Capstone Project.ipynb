{
    "cells": [
        {
            "cell_type": "markdown",
            "metadata": {
                "collapsed": true
            },
            "source": "this notebook will be mainly used for the capstone project"
        },
        {
            "cell_type": "code",
            "execution_count": 1,
            "metadata": {},
            "outputs": [],
            "source": "import pandas as pd\nimport numpy as np"
        },
        {
            "cell_type": "code",
            "execution_count": 2,
            "metadata": {},
            "outputs": [
                {
                    "name": "stdout",
                    "output_type": "stream",
                    "text": "Hello Capstone Project Course!\n"
                }
            ],
            "source": "print(\"Hello Capstone Project Course!\")"
        },
        {
            "cell_type": "markdown",
            "metadata": {},
            "source": "## Peer-graded Assignment: Segmenting and Clustering Neighborhoods in Toronto"
        },
        {
            "cell_type": "markdown",
            "metadata": {},
            "source": "### part 1"
        },
        {
            "cell_type": "code",
            "execution_count": 1,
            "metadata": {},
            "outputs": [
                {
                    "name": "stdout",
                    "output_type": "stream",
                    "text": "Requirement already satisfied: beautifulsoup4 in /opt/conda/envs/Python36/lib/python3.6/site-packages (4.7.1)\r\nRequirement already satisfied: soupsieve>=1.2 in /opt/conda/envs/Python36/lib/python3.6/site-packages (from beautifulsoup4) (1.7.1)\r\n"
                }
            ],
            "source": "!pip install beautifulsoup4"
        },
        {
            "cell_type": "code",
            "execution_count": 2,
            "metadata": {},
            "outputs": [
                {
                    "name": "stdout",
                    "output_type": "stream",
                    "text": "Requirement already satisfied: lxml in /opt/conda/envs/Python36/lib/python3.6/site-packages (4.3.1)\r\n"
                }
            ],
            "source": "!pip install lxml"
        },
        {
            "cell_type": "code",
            "execution_count": 3,
            "metadata": {},
            "outputs": [
                {
                    "name": "stdout",
                    "output_type": "stream",
                    "text": "Requirement already satisfied: requests in /opt/conda/envs/Python36/lib/python3.6/site-packages (2.21.0)\nRequirement already satisfied: chardet<3.1.0,>=3.0.2 in /opt/conda/envs/Python36/lib/python3.6/site-packages (from requests) (3.0.4)\nRequirement already satisfied: certifi>=2017.4.17 in /opt/conda/envs/Python36/lib/python3.6/site-packages (from requests) (2019.11.28)\nRequirement already satisfied: urllib3<1.25,>=1.21.1 in /opt/conda/envs/Python36/lib/python3.6/site-packages (from requests) (1.24.1)\nRequirement already satisfied: idna<2.9,>=2.5 in /opt/conda/envs/Python36/lib/python3.6/site-packages (from requests) (2.8)\n"
                }
            ],
            "source": "!pip install requests"
        },
        {
            "cell_type": "code",
            "execution_count": 4,
            "metadata": {},
            "outputs": [],
            "source": "from bs4 import BeautifulSoup \nimport requests"
        },
        {
            "cell_type": "code",
            "execution_count": 5,
            "metadata": {},
            "outputs": [],
            "source": "import pandas as pd"
        },
        {
            "cell_type": "code",
            "execution_count": 11,
            "metadata": {},
            "outputs": [
                {
                    "data": {
                        "text/html": "<div>\n<style scoped>\n    .dataframe tbody tr th:only-of-type {\n        vertical-align: middle;\n    }\n\n    .dataframe tbody tr th {\n        vertical-align: top;\n    }\n\n    .dataframe thead th {\n        text-align: right;\n    }\n</style>\n<table border=\"1\" class=\"dataframe\">\n  <thead>\n    <tr style=\"text-align: right;\">\n      <th></th>\n      <th>Postal code</th>\n      <th>Borough</th>\n      <th>Neighborhood</th>\n    </tr>\n  </thead>\n  <tbody>\n    <tr>\n      <th>0</th>\n      <td>M1A</td>\n      <td>Not assigned</td>\n      <td>NaN</td>\n    </tr>\n    <tr>\n      <th>1</th>\n      <td>M2A</td>\n      <td>Not assigned</td>\n      <td>NaN</td>\n    </tr>\n    <tr>\n      <th>2</th>\n      <td>M3A</td>\n      <td>North York</td>\n      <td>Parkwoods</td>\n    </tr>\n    <tr>\n      <th>3</th>\n      <td>M4A</td>\n      <td>North York</td>\n      <td>Victoria Village</td>\n    </tr>\n    <tr>\n      <th>4</th>\n      <td>M5A</td>\n      <td>Downtown Toronto</td>\n      <td>Regent Park / Harbourfront</td>\n    </tr>\n  </tbody>\n</table>\n</div>",
                        "text/plain": "  Postal code           Borough                Neighborhood\n0         M1A      Not assigned                         NaN\n1         M2A      Not assigned                         NaN\n2         M3A        North York                   Parkwoods\n3         M4A        North York            Victoria Village\n4         M5A  Downtown Toronto  Regent Park / Harbourfront"
                    },
                    "execution_count": 11,
                    "metadata": {},
                    "output_type": "execute_result"
                }
            ],
            "source": "result = requests.get('https://en.wikipedia.org/wiki/List_of_postal_codes_of_Canada:_M')\nsoup = BeautifulSoup(result.content, 'html.parser')\ntable = soup.find_all('table')[0]\ndf = pd.read_html(str(table))[0]\ndf = pd.DataFrame(df)\ndf.head()\n"
        },
        {
            "cell_type": "code",
            "execution_count": 13,
            "metadata": {},
            "outputs": [],
            "source": "df.columns = ['Postal Code', 'Borough', 'Neighborhood'] \n\ndf = df[df.Borough != 'Not assigned']\n"
        },
        {
            "cell_type": "code",
            "execution_count": 14,
            "metadata": {},
            "outputs": [],
            "source": "# function to replace '/' with comma\ndef replace_with_comma(text):\n    text = text.replace(' /',',')\n    return text"
        },
        {
            "cell_type": "code",
            "execution_count": 16,
            "metadata": {},
            "outputs": [
                {
                    "data": {
                        "text/html": "<div>\n<style scoped>\n    .dataframe tbody tr th:only-of-type {\n        vertical-align: middle;\n    }\n\n    .dataframe tbody tr th {\n        vertical-align: top;\n    }\n\n    .dataframe thead th {\n        text-align: right;\n    }\n</style>\n<table border=\"1\" class=\"dataframe\">\n  <thead>\n    <tr style=\"text-align: right;\">\n      <th></th>\n      <th>Postal Code</th>\n      <th>Borough</th>\n      <th>Neighborhood</th>\n    </tr>\n  </thead>\n  <tbody>\n    <tr>\n      <th>2</th>\n      <td>M3A</td>\n      <td>North York</td>\n      <td>Parkwoods</td>\n    </tr>\n    <tr>\n      <th>3</th>\n      <td>M4A</td>\n      <td>North York</td>\n      <td>Victoria Village</td>\n    </tr>\n    <tr>\n      <th>4</th>\n      <td>M5A</td>\n      <td>Downtown Toronto</td>\n      <td>Regent Park, Harbourfront</td>\n    </tr>\n    <tr>\n      <th>5</th>\n      <td>M6A</td>\n      <td>North York</td>\n      <td>Lawrence Manor, Lawrence Heights</td>\n    </tr>\n    <tr>\n      <th>6</th>\n      <td>M7A</td>\n      <td>Downtown Toronto</td>\n      <td>Queen's Park, Ontario Provincial Government</td>\n    </tr>\n  </tbody>\n</table>\n</div>",
                        "text/plain": "  Postal Code           Borough                                 Neighborhood\n2         M3A        North York                                    Parkwoods\n3         M4A        North York                             Victoria Village\n4         M5A  Downtown Toronto                    Regent Park, Harbourfront\n5         M6A        North York             Lawrence Manor, Lawrence Heights\n6         M7A  Downtown Toronto  Queen's Park, Ontario Provincial Government"
                    },
                    "execution_count": 16,
                    "metadata": {},
                    "output_type": "execute_result"
                }
            ],
            "source": "# avoiding SettingWithCopyWarning \ndf = df.copy()\n\n# replacing '/' with comma\ndf['Neighborhood'] = df['Neighborhood'].apply(replace_with_comma)\n\ndf.head()"
        },
        {
            "cell_type": "code",
            "execution_count": 17,
            "metadata": {},
            "outputs": [
                {
                    "data": {
                        "text/plain": "(103, 3)"
                    },
                    "execution_count": 17,
                    "metadata": {},
                    "output_type": "execute_result"
                }
            ],
            "source": "df.shape"
        },
        {
            "cell_type": "markdown",
            "metadata": {},
            "source": "### Part 2"
        },
        {
            "cell_type": "code",
            "execution_count": 19,
            "metadata": {},
            "outputs": [
                {
                    "data": {
                        "text/html": "<div>\n<style scoped>\n    .dataframe tbody tr th:only-of-type {\n        vertical-align: middle;\n    }\n\n    .dataframe tbody tr th {\n        vertical-align: top;\n    }\n\n    .dataframe thead th {\n        text-align: right;\n    }\n</style>\n<table border=\"1\" class=\"dataframe\">\n  <thead>\n    <tr style=\"text-align: right;\">\n      <th></th>\n      <th>Postal Code</th>\n      <th>Latitude</th>\n      <th>Longitude</th>\n    </tr>\n  </thead>\n  <tbody>\n    <tr>\n      <th>0</th>\n      <td>M1B</td>\n      <td>43.806686</td>\n      <td>-79.194353</td>\n    </tr>\n    <tr>\n      <th>1</th>\n      <td>M1C</td>\n      <td>43.784535</td>\n      <td>-79.160497</td>\n    </tr>\n    <tr>\n      <th>2</th>\n      <td>M1E</td>\n      <td>43.763573</td>\n      <td>-79.188711</td>\n    </tr>\n    <tr>\n      <th>3</th>\n      <td>M1G</td>\n      <td>43.770992</td>\n      <td>-79.216917</td>\n    </tr>\n    <tr>\n      <th>4</th>\n      <td>M1H</td>\n      <td>43.773136</td>\n      <td>-79.239476</td>\n    </tr>\n  </tbody>\n</table>\n</div>",
                        "text/plain": "  Postal Code   Latitude  Longitude\n0         M1B  43.806686 -79.194353\n1         M1C  43.784535 -79.160497\n2         M1E  43.763573 -79.188711\n3         M1G  43.770992 -79.216917\n4         M1H  43.773136 -79.239476"
                    },
                    "execution_count": 19,
                    "metadata": {},
                    "output_type": "execute_result"
                }
            ],
            "source": "url2=\"http://cocl.us/Geospatial_data\"\ngeo_data=pd.read_csv(url2)\ngeo_data.head(5)"
        },
        {
            "cell_type": "code",
            "execution_count": 20,
            "metadata": {},
            "outputs": [
                {
                    "name": "stdout",
                    "output_type": "stream",
                    "text": "['Postal Code', 'Borough', 'Neighborhood']\n['Postal Code', 'Latitude', 'Longitude']\n"
                },
                {
                    "data": {
                        "text/html": "<div>\n<style scoped>\n    .dataframe tbody tr th:only-of-type {\n        vertical-align: middle;\n    }\n\n    .dataframe tbody tr th {\n        vertical-align: top;\n    }\n\n    .dataframe thead th {\n        text-align: right;\n    }\n</style>\n<table border=\"1\" class=\"dataframe\">\n  <thead>\n    <tr style=\"text-align: right;\">\n      <th></th>\n      <th>Borough</th>\n      <th>Neighborhood</th>\n      <th>Latitude</th>\n      <th>Longitude</th>\n    </tr>\n  </thead>\n  <tbody>\n    <tr>\n      <th>0</th>\n      <td>West Toronto</td>\n      <td>Little Portugal, Trinity</td>\n      <td>43.647927</td>\n      <td>-79.419750</td>\n    </tr>\n    <tr>\n      <th>1</th>\n      <td>North York</td>\n      <td>Northwood Park, York University</td>\n      <td>43.767980</td>\n      <td>-79.487262</td>\n    </tr>\n    <tr>\n      <th>2</th>\n      <td>East York</td>\n      <td>Woodbine Heights</td>\n      <td>43.695344</td>\n      <td>-79.318389</td>\n    </tr>\n    <tr>\n      <th>3</th>\n      <td>Central Toronto</td>\n      <td>North Toronto West</td>\n      <td>43.715383</td>\n      <td>-79.405678</td>\n    </tr>\n    <tr>\n      <th>4</th>\n      <td>Central Toronto</td>\n      <td>The Annex, North Midtown, Yorkville</td>\n      <td>43.672710</td>\n      <td>-79.405678</td>\n    </tr>\n    <tr>\n      <th>5</th>\n      <td>Scarborough</td>\n      <td>Cedarbrae</td>\n      <td>43.773136</td>\n      <td>-79.239476</td>\n    </tr>\n    <tr>\n      <th>6</th>\n      <td>Central Toronto</td>\n      <td>Davisville North</td>\n      <td>43.712751</td>\n      <td>-79.390197</td>\n    </tr>\n    <tr>\n      <th>7</th>\n      <td>Central Toronto</td>\n      <td>Forest Hill North &amp; West</td>\n      <td>43.696948</td>\n      <td>-79.411307</td>\n    </tr>\n    <tr>\n      <th>8</th>\n      <td>East York</td>\n      <td>Parkview Hill, Woodbine Gardens</td>\n      <td>43.706397</td>\n      <td>-79.309937</td>\n    </tr>\n    <tr>\n      <th>9</th>\n      <td>Downtown Toronto</td>\n      <td>Queen's Park, Ontario Provincial Government</td>\n      <td>43.662301</td>\n      <td>-79.389494</td>\n    </tr>\n  </tbody>\n</table>\n</div>",
                        "text/plain": "            Borough                                 Neighborhood   Latitude  \\\n0      West Toronto                     Little Portugal, Trinity  43.647927   \n1        North York              Northwood Park, York University  43.767980   \n2         East York                             Woodbine Heights  43.695344   \n3   Central Toronto                           North Toronto West  43.715383   \n4   Central Toronto          The Annex, North Midtown, Yorkville  43.672710   \n5       Scarborough                                    Cedarbrae  43.773136   \n6   Central Toronto                             Davisville North  43.712751   \n7   Central Toronto                     Forest Hill North & West  43.696948   \n8         East York              Parkview Hill, Woodbine Gardens  43.706397   \n9  Downtown Toronto  Queen's Park, Ontario Provincial Government  43.662301   \n\n   Longitude  \n0 -79.419750  \n1 -79.487262  \n2 -79.318389  \n3 -79.405678  \n4 -79.405678  \n5 -79.239476  \n6 -79.390197  \n7 -79.411307  \n8 -79.309937  \n9 -79.389494  "
                    },
                    "execution_count": 20,
                    "metadata": {},
                    "output_type": "execute_result"
                }
            ],
            "source": "print(list(df))\nprint(list(geo_data))\n\nfull_table = df.set_index('Postal Code').join(geo_data.set_index('Postal Code'))\nfull_table = full_table.sample(frac=1).reset_index(drop=True)\nfull_table.head(10)"
        },
        {
            "cell_type": "markdown",
            "metadata": {},
            "source": "### Part 3"
        },
        {
            "cell_type": "code",
            "execution_count": 21,
            "metadata": {},
            "outputs": [
                {
                    "data": {
                        "text/html": "<div>\n<style scoped>\n    .dataframe tbody tr th:only-of-type {\n        vertical-align: middle;\n    }\n\n    .dataframe tbody tr th {\n        vertical-align: top;\n    }\n\n    .dataframe thead th {\n        text-align: right;\n    }\n</style>\n<table border=\"1\" class=\"dataframe\">\n  <thead>\n    <tr style=\"text-align: right;\">\n      <th></th>\n      <th>Borough</th>\n      <th>Neighborhood</th>\n      <th>Latitude</th>\n      <th>Longitude</th>\n    </tr>\n  </thead>\n  <tbody>\n    <tr>\n      <th>0</th>\n      <td>West Toronto</td>\n      <td>Little Portugal, Trinity</td>\n      <td>43.647927</td>\n      <td>-79.419750</td>\n    </tr>\n    <tr>\n      <th>3</th>\n      <td>Central Toronto</td>\n      <td>North Toronto West</td>\n      <td>43.715383</td>\n      <td>-79.405678</td>\n    </tr>\n    <tr>\n      <th>4</th>\n      <td>Central Toronto</td>\n      <td>The Annex, North Midtown, Yorkville</td>\n      <td>43.672710</td>\n      <td>-79.405678</td>\n    </tr>\n    <tr>\n      <th>6</th>\n      <td>Central Toronto</td>\n      <td>Davisville North</td>\n      <td>43.712751</td>\n      <td>-79.390197</td>\n    </tr>\n    <tr>\n      <th>7</th>\n      <td>Central Toronto</td>\n      <td>Forest Hill North &amp; West</td>\n      <td>43.696948</td>\n      <td>-79.411307</td>\n    </tr>\n  </tbody>\n</table>\n</div>",
                        "text/plain": "           Borough                         Neighborhood   Latitude  Longitude\n0     West Toronto             Little Portugal, Trinity  43.647927 -79.419750\n3  Central Toronto                   North Toronto West  43.715383 -79.405678\n4  Central Toronto  The Annex, North Midtown, Yorkville  43.672710 -79.405678\n6  Central Toronto                     Davisville North  43.712751 -79.390197\n7  Central Toronto             Forest Hill North & West  43.696948 -79.411307"
                    },
                    "execution_count": 21,
                    "metadata": {},
                    "output_type": "execute_result"
                }
            ],
            "source": "toronto_data=full_table[full_table['Borough'].str.contains(\"Toronto\")]\ntoronto_data.head()"
        },
        {
            "cell_type": "code",
            "execution_count": 22,
            "metadata": {},
            "outputs": [],
            "source": "CLIENT_ID = 'L3F53YOZ1AZMWJBQWSQAPVUYHIPREPMMUKOUK4G2FJYCYNEV' # your Foursquare ID\nCLIENT_SECRET = '4ZY5S2BNOCJDBEL1ZUUWSISKBZ0QVF2RNLQ5TCXMEHFYRDB1' # your Foursquare Secret\nVERSION = '20180604'"
        },
        {
            "cell_type": "code",
            "execution_count": 23,
            "metadata": {},
            "outputs": [],
            "source": "def getNearbyVenues(names, latitudes, longitudes):\n    radius=500\n    LIMIT=100\n    venues_list=[]\n    for name, lat, lng in zip(names, latitudes, longitudes):\n        print(name)\n            \n        # create the API request URL\n        url = 'https://api.foursquare.com/v2/venues/explore?&client_id={}&client_secret={}&v={}&ll={},{}&radius={}&limit={}'.format(\n            CLIENT_ID, \n            CLIENT_SECRET, \n            VERSION, \n            lat, \n            lng, \n            radius, \n            LIMIT)\n            \n        # make the GET request\n        results = requests.get(url).json()[\"response\"]['groups'][0]['items']\n        \n        # return only relevant information for each nearby venue\n        venues_list.append([(\n            name, \n            lat, \n            lng, \n            v['venue']['name'], \n            v['venue']['location']['lat'], \n            v['venue']['location']['lng'],  \n            v['venue']['categories'][0]['name']) for v in results])\n\n    nearby_venues = pd.DataFrame([item for venue_list in venues_list for item in venue_list])\n    nearby_venues.columns = ['Neighborhood', \n                  'Neighborhood Latitude', \n                  'Neighborhood Longitude', \n                  'Venue', \n                  'Venue Latitude', \n                  'Venue Longitude', \n                  'Venue Category']\n    \n    return(nearby_venues)"
        },
        {
            "cell_type": "code",
            "execution_count": 24,
            "metadata": {},
            "outputs": [
                {
                    "name": "stdout",
                    "output_type": "stream",
                    "text": "Little Portugal, Trinity\nNorth Toronto West\nThe Annex, North Midtown, Yorkville\nDavisville North\nForest Hill North & West\nQueen's Park, Ontario Provincial Government\nParkdale, Roncesvalles\nLawrence Park\nStn A PO Boxes\nHigh Park, The Junction South\nCommerce Court, Victoria Hotel\nThe Beaches\nMoore Park, Summerhill East\nHarbourfront East, Union Station, Toronto Islands\nToronto Dominion Centre, Design Exchange\nBusiness reply mail Processing CentrE\nChristie\nDufferin, Dovercourt Village\nGarden District, Ryerson\nDavisville\nThe Danforth West, Riverdale\nBerczy Park\nCentral Bay Street\nSt. James Town\nRegent Park, Harbourfront\nBrockton, Parkdale Village, Exhibition Place\nChurch and Wellesley\nRunnymede, Swansea\nSt. James Town, Cabbagetown\nStudio District\nIndia Bazaar, The Beaches West\nFirst Canadian Place, Underground city\nUniversity of Toronto, Harbord\nRichmond, Adelaide, King\nKensington Market, Chinatown, Grange Park\nRosedale\nCN Tower, King and Spadina, Railway Lands, Harbourfront West, Bathurst  Quay, South Niagara, Island airport\nSummerhill West, Rathnelly, South Hill, Forest Hill SE, Deer Park\nRoselawn\n"
                }
            ],
            "source": "toronto_venues = getNearbyVenues(names=toronto_data['Neighborhood'],\n                                   latitudes=toronto_data['Latitude'],\n                                   longitudes=toronto_data['Longitude']\n                                  )"
        },
        {
            "cell_type": "code",
            "execution_count": 25,
            "metadata": {},
            "outputs": [
                {
                    "data": {
                        "text/html": "<div>\n<style scoped>\n    .dataframe tbody tr th:only-of-type {\n        vertical-align: middle;\n    }\n\n    .dataframe tbody tr th {\n        vertical-align: top;\n    }\n\n    .dataframe thead th {\n        text-align: right;\n    }\n</style>\n<table border=\"1\" class=\"dataframe\">\n  <thead>\n    <tr style=\"text-align: right;\">\n      <th></th>\n      <th>Neighborhood</th>\n      <th>Neighborhood Latitude</th>\n      <th>Neighborhood Longitude</th>\n      <th>Venue</th>\n      <th>Venue Latitude</th>\n      <th>Venue Longitude</th>\n      <th>Venue Category</th>\n    </tr>\n  </thead>\n  <tbody>\n    <tr>\n      <th>0</th>\n      <td>Little Portugal, Trinity</td>\n      <td>43.647927</td>\n      <td>-79.41975</td>\n      <td>Bellwoods Brewery</td>\n      <td>43.647097</td>\n      <td>-79.419955</td>\n      <td>Brewery</td>\n    </tr>\n    <tr>\n      <th>1</th>\n      <td>Little Portugal, Trinity</td>\n      <td>43.647927</td>\n      <td>-79.41975</td>\n      <td>Pizzeria Libretto</td>\n      <td>43.648979</td>\n      <td>-79.420604</td>\n      <td>Pizza Place</td>\n    </tr>\n    <tr>\n      <th>2</th>\n      <td>Little Portugal, Trinity</td>\n      <td>43.647927</td>\n      <td>-79.41975</td>\n      <td>Bang Bang Ice Cream &amp; Bakery</td>\n      <td>43.646246</td>\n      <td>-79.419553</td>\n      <td>Ice Cream Shop</td>\n    </tr>\n    <tr>\n      <th>3</th>\n      <td>Little Portugal, Trinity</td>\n      <td>43.647927</td>\n      <td>-79.41975</td>\n      <td>OddSeoul</td>\n      <td>43.646192</td>\n      <td>-79.419601</td>\n      <td>Korean Restaurant</td>\n    </tr>\n    <tr>\n      <th>4</th>\n      <td>Little Portugal, Trinity</td>\n      <td>43.647927</td>\n      <td>-79.41975</td>\n      <td>Foxley Bistro</td>\n      <td>43.648643</td>\n      <td>-79.420495</td>\n      <td>Asian Restaurant</td>\n    </tr>\n  </tbody>\n</table>\n</div>",
                        "text/plain": "               Neighborhood  Neighborhood Latitude  Neighborhood Longitude  \\\n0  Little Portugal, Trinity              43.647927               -79.41975   \n1  Little Portugal, Trinity              43.647927               -79.41975   \n2  Little Portugal, Trinity              43.647927               -79.41975   \n3  Little Portugal, Trinity              43.647927               -79.41975   \n4  Little Portugal, Trinity              43.647927               -79.41975   \n\n                          Venue  Venue Latitude  Venue Longitude  \\\n0             Bellwoods Brewery       43.647097       -79.419955   \n1             Pizzeria Libretto       43.648979       -79.420604   \n2  Bang Bang Ice Cream & Bakery       43.646246       -79.419553   \n3                      OddSeoul       43.646192       -79.419601   \n4                 Foxley Bistro       43.648643       -79.420495   \n\n      Venue Category  \n0            Brewery  \n1        Pizza Place  \n2     Ice Cream Shop  \n3  Korean Restaurant  \n4   Asian Restaurant  "
                    },
                    "execution_count": 25,
                    "metadata": {},
                    "output_type": "execute_result"
                }
            ],
            "source": "toronto_venues.head()"
        },
        {
            "cell_type": "code",
            "execution_count": 26,
            "metadata": {},
            "outputs": [
                {
                    "data": {
                        "text/html": "<div>\n<style scoped>\n    .dataframe tbody tr th:only-of-type {\n        vertical-align: middle;\n    }\n\n    .dataframe tbody tr th {\n        vertical-align: top;\n    }\n\n    .dataframe thead th {\n        text-align: right;\n    }\n</style>\n<table border=\"1\" class=\"dataframe\">\n  <thead>\n    <tr style=\"text-align: right;\">\n      <th></th>\n      <th>Neighborhood Latitude</th>\n      <th>Neighborhood Longitude</th>\n      <th>Venue</th>\n      <th>Venue Latitude</th>\n      <th>Venue Longitude</th>\n      <th>Venue Category</th>\n    </tr>\n    <tr>\n      <th>Neighborhood</th>\n      <th></th>\n      <th></th>\n      <th></th>\n      <th></th>\n      <th></th>\n      <th></th>\n    </tr>\n  </thead>\n  <tbody>\n    <tr>\n      <th>Berczy Park</th>\n      <td>56</td>\n      <td>56</td>\n      <td>56</td>\n      <td>56</td>\n      <td>56</td>\n      <td>56</td>\n    </tr>\n    <tr>\n      <th>Brockton, Parkdale Village, Exhibition Place</th>\n      <td>22</td>\n      <td>22</td>\n      <td>22</td>\n      <td>22</td>\n      <td>22</td>\n      <td>22</td>\n    </tr>\n    <tr>\n      <th>Business reply mail Processing CentrE</th>\n      <td>16</td>\n      <td>16</td>\n      <td>16</td>\n      <td>16</td>\n      <td>16</td>\n      <td>16</td>\n    </tr>\n    <tr>\n      <th>CN Tower, King and Spadina, Railway Lands, Harbourfront West, Bathurst  Quay, South Niagara, Island airport</th>\n      <td>18</td>\n      <td>18</td>\n      <td>18</td>\n      <td>18</td>\n      <td>18</td>\n      <td>18</td>\n    </tr>\n    <tr>\n      <th>Central Bay Street</th>\n      <td>75</td>\n      <td>75</td>\n      <td>75</td>\n      <td>75</td>\n      <td>75</td>\n      <td>75</td>\n    </tr>\n    <tr>\n      <th>Christie</th>\n      <td>18</td>\n      <td>18</td>\n      <td>18</td>\n      <td>18</td>\n      <td>18</td>\n      <td>18</td>\n    </tr>\n    <tr>\n      <th>Church and Wellesley</th>\n      <td>79</td>\n      <td>79</td>\n      <td>79</td>\n      <td>79</td>\n      <td>79</td>\n      <td>79</td>\n    </tr>\n    <tr>\n      <th>Commerce Court, Victoria Hotel</th>\n      <td>100</td>\n      <td>100</td>\n      <td>100</td>\n      <td>100</td>\n      <td>100</td>\n      <td>100</td>\n    </tr>\n    <tr>\n      <th>Davisville</th>\n      <td>34</td>\n      <td>34</td>\n      <td>34</td>\n      <td>34</td>\n      <td>34</td>\n      <td>34</td>\n    </tr>\n    <tr>\n      <th>Davisville North</th>\n      <td>7</td>\n      <td>7</td>\n      <td>7</td>\n      <td>7</td>\n      <td>7</td>\n      <td>7</td>\n    </tr>\n    <tr>\n      <th>Dufferin, Dovercourt Village</th>\n      <td>16</td>\n      <td>16</td>\n      <td>16</td>\n      <td>16</td>\n      <td>16</td>\n      <td>16</td>\n    </tr>\n    <tr>\n      <th>First Canadian Place, Underground city</th>\n      <td>100</td>\n      <td>100</td>\n      <td>100</td>\n      <td>100</td>\n      <td>100</td>\n      <td>100</td>\n    </tr>\n    <tr>\n      <th>Forest Hill North &amp; West</th>\n      <td>5</td>\n      <td>5</td>\n      <td>5</td>\n      <td>5</td>\n      <td>5</td>\n      <td>5</td>\n    </tr>\n    <tr>\n      <th>Garden District, Ryerson</th>\n      <td>100</td>\n      <td>100</td>\n      <td>100</td>\n      <td>100</td>\n      <td>100</td>\n      <td>100</td>\n    </tr>\n    <tr>\n      <th>Harbourfront East, Union Station, Toronto Islands</th>\n      <td>100</td>\n      <td>100</td>\n      <td>100</td>\n      <td>100</td>\n      <td>100</td>\n      <td>100</td>\n    </tr>\n    <tr>\n      <th>High Park, The Junction South</th>\n      <td>24</td>\n      <td>24</td>\n      <td>24</td>\n      <td>24</td>\n      <td>24</td>\n      <td>24</td>\n    </tr>\n    <tr>\n      <th>India Bazaar, The Beaches West</th>\n      <td>20</td>\n      <td>20</td>\n      <td>20</td>\n      <td>20</td>\n      <td>20</td>\n      <td>20</td>\n    </tr>\n    <tr>\n      <th>Kensington Market, Chinatown, Grange Park</th>\n      <td>74</td>\n      <td>74</td>\n      <td>74</td>\n      <td>74</td>\n      <td>74</td>\n      <td>74</td>\n    </tr>\n    <tr>\n      <th>Lawrence Park</th>\n      <td>3</td>\n      <td>3</td>\n      <td>3</td>\n      <td>3</td>\n      <td>3</td>\n      <td>3</td>\n    </tr>\n    <tr>\n      <th>Little Portugal, Trinity</th>\n      <td>50</td>\n      <td>50</td>\n      <td>50</td>\n      <td>50</td>\n      <td>50</td>\n      <td>50</td>\n    </tr>\n    <tr>\n      <th>Moore Park, Summerhill East</th>\n      <td>2</td>\n      <td>2</td>\n      <td>2</td>\n      <td>2</td>\n      <td>2</td>\n      <td>2</td>\n    </tr>\n    <tr>\n      <th>North Toronto West</th>\n      <td>22</td>\n      <td>22</td>\n      <td>22</td>\n      <td>22</td>\n      <td>22</td>\n      <td>22</td>\n    </tr>\n    <tr>\n      <th>Parkdale, Roncesvalles</th>\n      <td>13</td>\n      <td>13</td>\n      <td>13</td>\n      <td>13</td>\n      <td>13</td>\n      <td>13</td>\n    </tr>\n    <tr>\n      <th>Queen's Park, Ontario Provincial Government</th>\n      <td>36</td>\n      <td>36</td>\n      <td>36</td>\n      <td>36</td>\n      <td>36</td>\n      <td>36</td>\n    </tr>\n    <tr>\n      <th>Regent Park, Harbourfront</th>\n      <td>47</td>\n      <td>47</td>\n      <td>47</td>\n      <td>47</td>\n      <td>47</td>\n      <td>47</td>\n    </tr>\n    <tr>\n      <th>Richmond, Adelaide, King</th>\n      <td>100</td>\n      <td>100</td>\n      <td>100</td>\n      <td>100</td>\n      <td>100</td>\n      <td>100</td>\n    </tr>\n    <tr>\n      <th>Rosedale</th>\n      <td>4</td>\n      <td>4</td>\n      <td>4</td>\n      <td>4</td>\n      <td>4</td>\n      <td>4</td>\n    </tr>\n    <tr>\n      <th>Roselawn</th>\n      <td>1</td>\n      <td>1</td>\n      <td>1</td>\n      <td>1</td>\n      <td>1</td>\n      <td>1</td>\n    </tr>\n    <tr>\n      <th>Runnymede, Swansea</th>\n      <td>40</td>\n      <td>40</td>\n      <td>40</td>\n      <td>40</td>\n      <td>40</td>\n      <td>40</td>\n    </tr>\n    <tr>\n      <th>St. James Town</th>\n      <td>100</td>\n      <td>100</td>\n      <td>100</td>\n      <td>100</td>\n      <td>100</td>\n      <td>100</td>\n    </tr>\n    <tr>\n      <th>St. James Town, Cabbagetown</th>\n      <td>45</td>\n      <td>45</td>\n      <td>45</td>\n      <td>45</td>\n      <td>45</td>\n      <td>45</td>\n    </tr>\n    <tr>\n      <th>Stn A PO Boxes</th>\n      <td>97</td>\n      <td>97</td>\n      <td>97</td>\n      <td>97</td>\n      <td>97</td>\n      <td>97</td>\n    </tr>\n    <tr>\n      <th>Studio District</th>\n      <td>41</td>\n      <td>41</td>\n      <td>41</td>\n      <td>41</td>\n      <td>41</td>\n      <td>41</td>\n    </tr>\n    <tr>\n      <th>Summerhill West, Rathnelly, South Hill, Forest Hill SE, Deer Park</th>\n      <td>15</td>\n      <td>15</td>\n      <td>15</td>\n      <td>15</td>\n      <td>15</td>\n      <td>15</td>\n    </tr>\n    <tr>\n      <th>The Annex, North Midtown, Yorkville</th>\n      <td>22</td>\n      <td>22</td>\n      <td>22</td>\n      <td>22</td>\n      <td>22</td>\n      <td>22</td>\n    </tr>\n    <tr>\n      <th>The Beaches</th>\n      <td>5</td>\n      <td>5</td>\n      <td>5</td>\n      <td>5</td>\n      <td>5</td>\n      <td>5</td>\n    </tr>\n    <tr>\n      <th>The Danforth West, Riverdale</th>\n      <td>42</td>\n      <td>42</td>\n      <td>42</td>\n      <td>42</td>\n      <td>42</td>\n      <td>42</td>\n    </tr>\n    <tr>\n      <th>Toronto Dominion Centre, Design Exchange</th>\n      <td>100</td>\n      <td>100</td>\n      <td>100</td>\n      <td>100</td>\n      <td>100</td>\n      <td>100</td>\n    </tr>\n    <tr>\n      <th>University of Toronto, Harbord</th>\n      <td>35</td>\n      <td>35</td>\n      <td>35</td>\n      <td>35</td>\n      <td>35</td>\n      <td>35</td>\n    </tr>\n  </tbody>\n</table>\n</div>",
                        "text/plain": "                                                    Neighborhood Latitude  \\\nNeighborhood                                                                \nBerczy Park                                                            56   \nBrockton, Parkdale Village, Exhibition Place                           22   \nBusiness reply mail Processing CentrE                                  16   \nCN Tower, King and Spadina, Railway Lands, Harb...                     18   \nCentral Bay Street                                                     75   \nChristie                                                               18   \nChurch and Wellesley                                                   79   \nCommerce Court, Victoria Hotel                                        100   \nDavisville                                                             34   \nDavisville North                                                        7   \nDufferin, Dovercourt Village                                           16   \nFirst Canadian Place, Underground city                                100   \nForest Hill North & West                                                5   \nGarden District, Ryerson                                              100   \nHarbourfront East, Union Station, Toronto Islands                     100   \nHigh Park, The Junction South                                          24   \nIndia Bazaar, The Beaches West                                         20   \nKensington Market, Chinatown, Grange Park                              74   \nLawrence Park                                                           3   \nLittle Portugal, Trinity                                               50   \nMoore Park, Summerhill East                                             2   \nNorth Toronto West                                                     22   \nParkdale, Roncesvalles                                                 13   \nQueen's Park, Ontario Provincial Government                            36   \nRegent Park, Harbourfront                                              47   \nRichmond, Adelaide, King                                              100   \nRosedale                                                                4   \nRoselawn                                                                1   \nRunnymede, Swansea                                                     40   \nSt. James Town                                                        100   \nSt. James Town, Cabbagetown                                            45   \nStn A PO Boxes                                                         97   \nStudio District                                                        41   \nSummerhill West, Rathnelly, South Hill, Forest ...                     15   \nThe Annex, North Midtown, Yorkville                                    22   \nThe Beaches                                                             5   \nThe Danforth West, Riverdale                                           42   \nToronto Dominion Centre, Design Exchange                              100   \nUniversity of Toronto, Harbord                                         35   \n\n                                                    Neighborhood Longitude  \\\nNeighborhood                                                                 \nBerczy Park                                                             56   \nBrockton, Parkdale Village, Exhibition Place                            22   \nBusiness reply mail Processing CentrE                                   16   \nCN Tower, King and Spadina, Railway Lands, Harb...                      18   \nCentral Bay Street                                                      75   \nChristie                                                                18   \nChurch and Wellesley                                                    79   \nCommerce Court, Victoria Hotel                                         100   \nDavisville                                                              34   \nDavisville North                                                         7   \nDufferin, Dovercourt Village                                            16   \nFirst Canadian Place, Underground city                                 100   \nForest Hill North & West                                                 5   \nGarden District, Ryerson                                               100   \nHarbourfront East, Union Station, Toronto Islands                      100   \nHigh Park, The Junction South                                           24   \nIndia Bazaar, The Beaches West                                          20   \nKensington Market, Chinatown, Grange Park                               74   \nLawrence Park                                                            3   \nLittle Portugal, Trinity                                                50   \nMoore Park, Summerhill East                                              2   \nNorth Toronto West                                                      22   \nParkdale, Roncesvalles                                                  13   \nQueen's Park, Ontario Provincial Government                             36   \nRegent Park, Harbourfront                                               47   \nRichmond, Adelaide, King                                               100   \nRosedale                                                                 4   \nRoselawn                                                                 1   \nRunnymede, Swansea                                                      40   \nSt. James Town                                                         100   \nSt. James Town, Cabbagetown                                             45   \nStn A PO Boxes                                                          97   \nStudio District                                                         41   \nSummerhill West, Rathnelly, South Hill, Forest ...                      15   \nThe Annex, North Midtown, Yorkville                                     22   \nThe Beaches                                                              5   \nThe Danforth West, Riverdale                                            42   \nToronto Dominion Centre, Design Exchange                               100   \nUniversity of Toronto, Harbord                                          35   \n\n                                                    Venue  Venue Latitude  \\\nNeighborhood                                                                \nBerczy Park                                            56              56   \nBrockton, Parkdale Village, Exhibition Place           22              22   \nBusiness reply mail Processing CentrE                  16              16   \nCN Tower, King and Spadina, Railway Lands, Harb...     18              18   \nCentral Bay Street                                     75              75   \nChristie                                               18              18   \nChurch and Wellesley                                   79              79   \nCommerce Court, Victoria Hotel                        100             100   \nDavisville                                             34              34   \nDavisville North                                        7               7   \nDufferin, Dovercourt Village                           16              16   \nFirst Canadian Place, Underground city                100             100   \nForest Hill North & West                                5               5   \nGarden District, Ryerson                              100             100   \nHarbourfront East, Union Station, Toronto Islands     100             100   \nHigh Park, The Junction South                          24              24   \nIndia Bazaar, The Beaches West                         20              20   \nKensington Market, Chinatown, Grange Park              74              74   \nLawrence Park                                           3               3   \nLittle Portugal, Trinity                               50              50   \nMoore Park, Summerhill East                             2               2   \nNorth Toronto West                                     22              22   \nParkdale, Roncesvalles                                 13              13   \nQueen's Park, Ontario Provincial Government            36              36   \nRegent Park, Harbourfront                              47              47   \nRichmond, Adelaide, King                              100             100   \nRosedale                                                4               4   \nRoselawn                                                1               1   \nRunnymede, Swansea                                     40              40   \nSt. James Town                                        100             100   \nSt. James Town, Cabbagetown                            45              45   \nStn A PO Boxes                                         97              97   \nStudio District                                        41              41   \nSummerhill West, Rathnelly, South Hill, Forest ...     15              15   \nThe Annex, North Midtown, Yorkville                    22              22   \nThe Beaches                                             5               5   \nThe Danforth West, Riverdale                           42              42   \nToronto Dominion Centre, Design Exchange              100             100   \nUniversity of Toronto, Harbord                         35              35   \n\n                                                    Venue Longitude  \\\nNeighborhood                                                          \nBerczy Park                                                      56   \nBrockton, Parkdale Village, Exhibition Place                     22   \nBusiness reply mail Processing CentrE                            16   \nCN Tower, King and Spadina, Railway Lands, Harb...               18   \nCentral Bay Street                                               75   \nChristie                                                         18   \nChurch and Wellesley                                             79   \nCommerce Court, Victoria Hotel                                  100   \nDavisville                                                       34   \nDavisville North                                                  7   \nDufferin, Dovercourt Village                                     16   \nFirst Canadian Place, Underground city                          100   \nForest Hill North & West                                          5   \nGarden District, Ryerson                                        100   \nHarbourfront East, Union Station, Toronto Islands               100   \nHigh Park, The Junction South                                    24   \nIndia Bazaar, The Beaches West                                   20   \nKensington Market, Chinatown, Grange Park                        74   \nLawrence Park                                                     3   \nLittle Portugal, Trinity                                         50   \nMoore Park, Summerhill East                                       2   \nNorth Toronto West                                               22   \nParkdale, Roncesvalles                                           13   \nQueen's Park, Ontario Provincial Government                      36   \nRegent Park, Harbourfront                                        47   \nRichmond, Adelaide, King                                        100   \nRosedale                                                          4   \nRoselawn                                                          1   \nRunnymede, Swansea                                               40   \nSt. James Town                                                  100   \nSt. James Town, Cabbagetown                                      45   \nStn A PO Boxes                                                   97   \nStudio District                                                  41   \nSummerhill West, Rathnelly, South Hill, Forest ...               15   \nThe Annex, North Midtown, Yorkville                              22   \nThe Beaches                                                       5   \nThe Danforth West, Riverdale                                     42   \nToronto Dominion Centre, Design Exchange                        100   \nUniversity of Toronto, Harbord                                   35   \n\n                                                    Venue Category  \nNeighborhood                                                        \nBerczy Park                                                     56  \nBrockton, Parkdale Village, Exhibition Place                    22  \nBusiness reply mail Processing CentrE                           16  \nCN Tower, King and Spadina, Railway Lands, Harb...              18  \nCentral Bay Street                                              75  \nChristie                                                        18  \nChurch and Wellesley                                            79  \nCommerce Court, Victoria Hotel                                 100  \nDavisville                                                      34  \nDavisville North                                                 7  \nDufferin, Dovercourt Village                                    16  \nFirst Canadian Place, Underground city                         100  \nForest Hill North & West                                         5  \nGarden District, Ryerson                                       100  \nHarbourfront East, Union Station, Toronto Islands              100  \nHigh Park, The Junction South                                   24  \nIndia Bazaar, The Beaches West                                  20  \nKensington Market, Chinatown, Grange Park                       74  \nLawrence Park                                                    3  \nLittle Portugal, Trinity                                        50  \nMoore Park, Summerhill East                                      2  \nNorth Toronto West                                              22  \nParkdale, Roncesvalles                                          13  \nQueen's Park, Ontario Provincial Government                     36  \nRegent Park, Harbourfront                                       47  \nRichmond, Adelaide, King                                       100  \nRosedale                                                         4  \nRoselawn                                                         1  \nRunnymede, Swansea                                              40  \nSt. James Town                                                 100  \nSt. James Town, Cabbagetown                                     45  \nStn A PO Boxes                                                  97  \nStudio District                                                 41  \nSummerhill West, Rathnelly, South Hill, Forest ...              15  \nThe Annex, North Midtown, Yorkville                             22  \nThe Beaches                                                      5  \nThe Danforth West, Riverdale                                    42  \nToronto Dominion Centre, Design Exchange                       100  \nUniversity of Toronto, Harbord                                  35  "
                    },
                    "execution_count": 26,
                    "metadata": {},
                    "output_type": "execute_result"
                }
            ],
            "source": "toronto_venues.groupby('Neighborhood').count()"
        },
        {
            "cell_type": "code",
            "execution_count": 27,
            "metadata": {},
            "outputs": [
                {
                    "data": {
                        "text/plain": "(1684, 232)"
                    },
                    "execution_count": 27,
                    "metadata": {},
                    "output_type": "execute_result"
                }
            ],
            "source": "# one hot encoding\ntoronto_onehot = pd.get_dummies(toronto_venues[['Venue Category']], prefix=\"\", prefix_sep=\"\")\ntoronto_onehot.drop(['Neighborhood'],axis=1,inplace=True) \ntoronto_onehot.insert(loc=0, column='Neighborhood', value=toronto_venues['Neighborhood'] )\ntoronto_onehot.shape"
        },
        {
            "cell_type": "code",
            "execution_count": 28,
            "metadata": {},
            "outputs": [
                {
                    "data": {
                        "text/html": "<div>\n<style scoped>\n    .dataframe tbody tr th:only-of-type {\n        vertical-align: middle;\n    }\n\n    .dataframe tbody tr th {\n        vertical-align: top;\n    }\n\n    .dataframe thead th {\n        text-align: right;\n    }\n</style>\n<table border=\"1\" class=\"dataframe\">\n  <thead>\n    <tr style=\"text-align: right;\">\n      <th></th>\n      <th>Neighborhood</th>\n      <th>Afghan Restaurant</th>\n      <th>Airport</th>\n      <th>Airport Food Court</th>\n      <th>Airport Gate</th>\n      <th>Airport Lounge</th>\n      <th>Airport Service</th>\n      <th>Airport Terminal</th>\n      <th>American Restaurant</th>\n      <th>Antique Shop</th>\n      <th>...</th>\n      <th>Toy / Game Store</th>\n      <th>Trail</th>\n      <th>Train Station</th>\n      <th>Vegetarian / Vegan Restaurant</th>\n      <th>Video Game Store</th>\n      <th>Vietnamese Restaurant</th>\n      <th>Wine Bar</th>\n      <th>Wings Joint</th>\n      <th>Women's Store</th>\n      <th>Yoga Studio</th>\n    </tr>\n  </thead>\n  <tbody>\n    <tr>\n      <th>0</th>\n      <td>Berczy Park</td>\n      <td>0.0</td>\n      <td>0.000000</td>\n      <td>0.000000</td>\n      <td>0.000000</td>\n      <td>0.000000</td>\n      <td>0.000000</td>\n      <td>0.000000</td>\n      <td>0.000000</td>\n      <td>0.0</td>\n      <td>...</td>\n      <td>0.0</td>\n      <td>0.0</td>\n      <td>0.0</td>\n      <td>0.017857</td>\n      <td>0.0</td>\n      <td>0.0</td>\n      <td>0.000000</td>\n      <td>0.0</td>\n      <td>0.0</td>\n      <td>0.000000</td>\n    </tr>\n    <tr>\n      <th>1</th>\n      <td>Brockton, Parkdale Village, Exhibition Place</td>\n      <td>0.0</td>\n      <td>0.000000</td>\n      <td>0.000000</td>\n      <td>0.000000</td>\n      <td>0.000000</td>\n      <td>0.000000</td>\n      <td>0.000000</td>\n      <td>0.000000</td>\n      <td>0.0</td>\n      <td>...</td>\n      <td>0.0</td>\n      <td>0.0</td>\n      <td>0.0</td>\n      <td>0.000000</td>\n      <td>0.0</td>\n      <td>0.0</td>\n      <td>0.000000</td>\n      <td>0.0</td>\n      <td>0.0</td>\n      <td>0.000000</td>\n    </tr>\n    <tr>\n      <th>2</th>\n      <td>Business reply mail Processing CentrE</td>\n      <td>0.0</td>\n      <td>0.000000</td>\n      <td>0.000000</td>\n      <td>0.000000</td>\n      <td>0.000000</td>\n      <td>0.000000</td>\n      <td>0.000000</td>\n      <td>0.000000</td>\n      <td>0.0</td>\n      <td>...</td>\n      <td>0.0</td>\n      <td>0.0</td>\n      <td>0.0</td>\n      <td>0.000000</td>\n      <td>0.0</td>\n      <td>0.0</td>\n      <td>0.000000</td>\n      <td>0.0</td>\n      <td>0.0</td>\n      <td>0.062500</td>\n    </tr>\n    <tr>\n      <th>3</th>\n      <td>CN Tower, King and Spadina, Railway Lands, Har...</td>\n      <td>0.0</td>\n      <td>0.055556</td>\n      <td>0.055556</td>\n      <td>0.055556</td>\n      <td>0.111111</td>\n      <td>0.166667</td>\n      <td>0.111111</td>\n      <td>0.000000</td>\n      <td>0.0</td>\n      <td>...</td>\n      <td>0.0</td>\n      <td>0.0</td>\n      <td>0.0</td>\n      <td>0.000000</td>\n      <td>0.0</td>\n      <td>0.0</td>\n      <td>0.000000</td>\n      <td>0.0</td>\n      <td>0.0</td>\n      <td>0.000000</td>\n    </tr>\n    <tr>\n      <th>4</th>\n      <td>Central Bay Street</td>\n      <td>0.0</td>\n      <td>0.000000</td>\n      <td>0.000000</td>\n      <td>0.000000</td>\n      <td>0.000000</td>\n      <td>0.000000</td>\n      <td>0.000000</td>\n      <td>0.013333</td>\n      <td>0.0</td>\n      <td>...</td>\n      <td>0.0</td>\n      <td>0.0</td>\n      <td>0.0</td>\n      <td>0.013333</td>\n      <td>0.0</td>\n      <td>0.0</td>\n      <td>0.013333</td>\n      <td>0.0</td>\n      <td>0.0</td>\n      <td>0.013333</td>\n    </tr>\n  </tbody>\n</table>\n<p>5 rows \u00d7 232 columns</p>\n</div>",
                        "text/plain": "                                        Neighborhood  Afghan Restaurant  \\\n0                                        Berczy Park                0.0   \n1       Brockton, Parkdale Village, Exhibition Place                0.0   \n2              Business reply mail Processing CentrE                0.0   \n3  CN Tower, King and Spadina, Railway Lands, Har...                0.0   \n4                                 Central Bay Street                0.0   \n\n    Airport  Airport Food Court  Airport Gate  Airport Lounge  \\\n0  0.000000            0.000000      0.000000        0.000000   \n1  0.000000            0.000000      0.000000        0.000000   \n2  0.000000            0.000000      0.000000        0.000000   \n3  0.055556            0.055556      0.055556        0.111111   \n4  0.000000            0.000000      0.000000        0.000000   \n\n   Airport Service  Airport Terminal  American Restaurant  Antique Shop  ...  \\\n0         0.000000          0.000000             0.000000           0.0  ...   \n1         0.000000          0.000000             0.000000           0.0  ...   \n2         0.000000          0.000000             0.000000           0.0  ...   \n3         0.166667          0.111111             0.000000           0.0  ...   \n4         0.000000          0.000000             0.013333           0.0  ...   \n\n   Toy / Game Store  Trail  Train Station  Vegetarian / Vegan Restaurant  \\\n0               0.0    0.0            0.0                       0.017857   \n1               0.0    0.0            0.0                       0.000000   \n2               0.0    0.0            0.0                       0.000000   \n3               0.0    0.0            0.0                       0.000000   \n4               0.0    0.0            0.0                       0.013333   \n\n   Video Game Store  Vietnamese Restaurant  Wine Bar  Wings Joint  \\\n0               0.0                    0.0  0.000000          0.0   \n1               0.0                    0.0  0.000000          0.0   \n2               0.0                    0.0  0.000000          0.0   \n3               0.0                    0.0  0.000000          0.0   \n4               0.0                    0.0  0.013333          0.0   \n\n   Women's Store  Yoga Studio  \n0            0.0     0.000000  \n1            0.0     0.000000  \n2            0.0     0.062500  \n3            0.0     0.000000  \n4            0.0     0.013333  \n\n[5 rows x 232 columns]"
                    },
                    "execution_count": 28,
                    "metadata": {},
                    "output_type": "execute_result"
                }
            ],
            "source": "toronto_grouped = toronto_onehot.groupby('Neighborhood').mean().reset_index()\ntoronto_grouped.head()"
        },
        {
            "cell_type": "code",
            "execution_count": 29,
            "metadata": {},
            "outputs": [],
            "source": "def return_most_common_venues(row, num_top_venues):\n    row_categories = row.iloc[1:]\n    row_categories_sorted = row_categories.sort_values(ascending=False)\n    \n    return row_categories_sorted.index.values[0:num_top_venues]"
        },
        {
            "cell_type": "code",
            "execution_count": 31,
            "metadata": {},
            "outputs": [
                {
                    "data": {
                        "text/html": "<div>\n<style scoped>\n    .dataframe tbody tr th:only-of-type {\n        vertical-align: middle;\n    }\n\n    .dataframe tbody tr th {\n        vertical-align: top;\n    }\n\n    .dataframe thead th {\n        text-align: right;\n    }\n</style>\n<table border=\"1\" class=\"dataframe\">\n  <thead>\n    <tr style=\"text-align: right;\">\n      <th></th>\n      <th>Neighborhood</th>\n      <th>1st Most Common Venue</th>\n      <th>2nd Most Common Venue</th>\n      <th>3rd Most Common Venue</th>\n      <th>4th Most Common Venue</th>\n      <th>5th Most Common Venue</th>\n      <th>6th Most Common Venue</th>\n      <th>7th Most Common Venue</th>\n      <th>8th Most Common Venue</th>\n      <th>9th Most Common Venue</th>\n      <th>10th Most Common Venue</th>\n    </tr>\n  </thead>\n  <tbody>\n    <tr>\n      <th>0</th>\n      <td>Berczy Park</td>\n      <td>Coffee Shop</td>\n      <td>Cocktail Bar</td>\n      <td>Bakery</td>\n      <td>Cheese Shop</td>\n      <td>Caf\u00e9</td>\n      <td>Restaurant</td>\n      <td>Farmers Market</td>\n      <td>Beer Bar</td>\n      <td>Seafood Restaurant</td>\n      <td>Breakfast Spot</td>\n    </tr>\n    <tr>\n      <th>1</th>\n      <td>Brockton, Parkdale Village, Exhibition Place</td>\n      <td>Caf\u00e9</td>\n      <td>Coffee Shop</td>\n      <td>Breakfast Spot</td>\n      <td>Gym</td>\n      <td>Stadium</td>\n      <td>Burrito Place</td>\n      <td>Restaurant</td>\n      <td>Climbing Gym</td>\n      <td>Pet Store</td>\n      <td>Bakery</td>\n    </tr>\n    <tr>\n      <th>2</th>\n      <td>Business reply mail Processing CentrE</td>\n      <td>Yoga Studio</td>\n      <td>Auto Workshop</td>\n      <td>Park</td>\n      <td>Comic Shop</td>\n      <td>Pizza Place</td>\n      <td>Restaurant</td>\n      <td>Burrito Place</td>\n      <td>Brewery</td>\n      <td>Light Rail Station</td>\n      <td>Skate Park</td>\n    </tr>\n    <tr>\n      <th>3</th>\n      <td>CN Tower, King and Spadina, Railway Lands, Har...</td>\n      <td>Airport Service</td>\n      <td>Airport Lounge</td>\n      <td>Airport Terminal</td>\n      <td>Coffee Shop</td>\n      <td>Harbor / Marina</td>\n      <td>Boutique</td>\n      <td>Boat or Ferry</td>\n      <td>Rental Car Location</td>\n      <td>Bar</td>\n      <td>Plane</td>\n    </tr>\n    <tr>\n      <th>4</th>\n      <td>Central Bay Street</td>\n      <td>Coffee Shop</td>\n      <td>Sandwich Place</td>\n      <td>Caf\u00e9</td>\n      <td>Italian Restaurant</td>\n      <td>Japanese Restaurant</td>\n      <td>Spa</td>\n      <td>Gym / Fitness Center</td>\n      <td>Burger Joint</td>\n      <td>Bubble Tea Shop</td>\n      <td>Ice Cream Shop</td>\n    </tr>\n  </tbody>\n</table>\n</div>",
                        "text/plain": "                                        Neighborhood 1st Most Common Venue  \\\n0                                        Berczy Park           Coffee Shop   \n1       Brockton, Parkdale Village, Exhibition Place                  Caf\u00e9   \n2              Business reply mail Processing CentrE           Yoga Studio   \n3  CN Tower, King and Spadina, Railway Lands, Har...       Airport Service   \n4                                 Central Bay Street           Coffee Shop   \n\n  2nd Most Common Venue 3rd Most Common Venue 4th Most Common Venue  \\\n0          Cocktail Bar                Bakery           Cheese Shop   \n1           Coffee Shop        Breakfast Spot                   Gym   \n2         Auto Workshop                  Park            Comic Shop   \n3        Airport Lounge      Airport Terminal           Coffee Shop   \n4        Sandwich Place                  Caf\u00e9    Italian Restaurant   \n\n  5th Most Common Venue 6th Most Common Venue 7th Most Common Venue  \\\n0                  Caf\u00e9            Restaurant        Farmers Market   \n1               Stadium         Burrito Place            Restaurant   \n2           Pizza Place            Restaurant         Burrito Place   \n3       Harbor / Marina              Boutique         Boat or Ferry   \n4   Japanese Restaurant                   Spa  Gym / Fitness Center   \n\n  8th Most Common Venue 9th Most Common Venue 10th Most Common Venue  \n0              Beer Bar    Seafood Restaurant         Breakfast Spot  \n1          Climbing Gym             Pet Store                 Bakery  \n2               Brewery    Light Rail Station             Skate Park  \n3   Rental Car Location                   Bar                  Plane  \n4          Burger Joint       Bubble Tea Shop         Ice Cream Shop  "
                    },
                    "execution_count": 31,
                    "metadata": {},
                    "output_type": "execute_result"
                }
            ],
            "source": "import numpy as np\n\nnum_top_venues = 10\n\nindicators = ['st', 'nd', 'rd']\n\n# create columns according to number of top venues\ncolumns = ['Neighborhood']\nfor ind in np.arange(num_top_venues):\n    try:\n        columns.append('{}{} Most Common Venue'.format(ind+1, indicators[ind]))\n    except:\n        columns.append('{}th Most Common Venue'.format(ind+1))\n\n# create a new dataframe\nneighborhoods_venues_sorted = pd.DataFrame(columns=columns)\nneighborhoods_venues_sorted['Neighborhood'] = toronto_grouped['Neighborhood']\n\nfor ind in np.arange(toronto_grouped.shape[0]):\n    neighborhoods_venues_sorted.iloc[ind, 1:] = return_most_common_venues(toronto_grouped.iloc[ind, :], num_top_venues)\n\nneighborhoods_venues_sorted.head()"
        },
        {
            "cell_type": "code",
            "execution_count": 34,
            "metadata": {},
            "outputs": [
                {
                    "data": {
                        "text/plain": "array([3, 3, 3, 3, 3, 3, 3, 3, 3, 3], dtype=int32)"
                    },
                    "execution_count": 34,
                    "metadata": {},
                    "output_type": "execute_result"
                }
            ],
            "source": "# set number of clusters\nkclusters = 5\n\ntoronto_grouped_clustering = toronto_grouped.drop('Neighborhood', 1)\n\n# run k-means clustering\nkmeans = KMeans(n_clusters=kclusters, random_state=0).fit(toronto_grouped_clustering)\n\n# check cluster labels generated for each row in the dataframe\nkmeans.labels_[0:10]"
        },
        {
            "cell_type": "code",
            "execution_count": 33,
            "metadata": {},
            "outputs": [
                {
                    "name": "stdout",
                    "output_type": "stream",
                    "text": "Collecting folium\n\u001b[?25l  Downloading https://files.pythonhosted.org/packages/fd/a0/ccb3094026649cda4acd55bf2c3822bb8c277eb11446d13d384e5be35257/folium-0.10.1-py2.py3-none-any.whl (91kB)\n\u001b[K     |\u2588\u2588\u2588\u2588\u2588\u2588\u2588\u2588\u2588\u2588\u2588\u2588\u2588\u2588\u2588\u2588\u2588\u2588\u2588\u2588\u2588\u2588\u2588\u2588\u2588\u2588\u2588\u2588\u2588\u2588\u2588\u2588| 92kB 14.0MB/s eta 0:00:01\n\u001b[?25hRequirement already satisfied: numpy in /opt/conda/envs/Python36/lib/python3.6/site-packages (from folium) (1.15.4)\nRequirement already satisfied: jinja2>=2.9 in /opt/conda/envs/Python36/lib/python3.6/site-packages (from folium) (2.10)\nCollecting branca>=0.3.0 (from folium)\n  Downloading https://files.pythonhosted.org/packages/81/6d/31c83485189a2521a75b4130f1fee5364f772a0375f81afff619004e5237/branca-0.4.0-py3-none-any.whl\nRequirement already satisfied: requests in /opt/conda/envs/Python36/lib/python3.6/site-packages (from folium) (2.21.0)\nRequirement already satisfied: MarkupSafe>=0.23 in /opt/conda/envs/Python36/lib/python3.6/site-packages (from jinja2>=2.9->folium) (1.1.0)\nRequirement already satisfied: six in /opt/conda/envs/Python36/lib/python3.6/site-packages (from branca>=0.3.0->folium) (1.12.0)\nRequirement already satisfied: idna<2.9,>=2.5 in /opt/conda/envs/Python36/lib/python3.6/site-packages (from requests->folium) (2.8)\nRequirement already satisfied: chardet<3.1.0,>=3.0.2 in /opt/conda/envs/Python36/lib/python3.6/site-packages (from requests->folium) (3.0.4)\nRequirement already satisfied: urllib3<1.25,>=1.21.1 in /opt/conda/envs/Python36/lib/python3.6/site-packages (from requests->folium) (1.24.1)\nRequirement already satisfied: certifi>=2017.4.17 in /opt/conda/envs/Python36/lib/python3.6/site-packages (from requests->folium) (2019.11.28)\nInstalling collected packages: branca, folium\nSuccessfully installed branca-0.4.0 folium-0.10.1\n"
                }
            ],
            "source": "import os\nfrom sklearn.cluster import KMeans\n!pip install folium\nimport folium \nfrom geopy.geocoders import Nominatim \nimport matplotlib.cm as cm\nimport matplotlib.colors as colors"
        },
        {
            "cell_type": "code",
            "execution_count": null,
            "metadata": {},
            "outputs": [],
            "source": ""
        }
    ],
    "metadata": {
        "kernelspec": {
            "display_name": "Python 3.6",
            "language": "python",
            "name": "python3"
        },
        "language_info": {
            "codemirror_mode": {
                "name": "ipython",
                "version": 3
            },
            "file_extension": ".py",
            "mimetype": "text/x-python",
            "name": "python",
            "nbconvert_exporter": "python",
            "pygments_lexer": "ipython3",
            "version": "3.6.9"
        }
    },
    "nbformat": 4,
    "nbformat_minor": 1
}